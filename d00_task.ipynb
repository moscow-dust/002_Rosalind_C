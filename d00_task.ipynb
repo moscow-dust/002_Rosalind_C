{
  "cells": [
    {
      "cell_type": "markdown",
      "metadata": {
        "id": "view-in-github",
        "colab_type": "text"
      },
      "source": [
        "<a href=\"https://colab.research.google.com/github/moscow-dust/Rosalind-C/blob/master/d00_task.ipynb\" target=\"_parent\"><img src=\"https://colab.research.google.com/assets/colab-badge.svg\" alt=\"Open In Colab\"/></a>"
      ]
    },
    {
      "cell_type": "markdown",
      "metadata": {
        "id": "Bn3r6JbFTm2_"
      },
      "source": [
        "# В начале был 0\n",
        "\n",
        "---\n",
        "\n",
        "Приветствуем Вас на курсе \"Python для DS с нуля\"! Каждый день у Вас будет новый ноутбук с учебными материалами и заданиями. В размещаемых материалах будет достаточно информации для выполнения заданий, однако, для более глубокого понимания и усвоения материала, мы рекомендуем пользоваться дополнительными источниками. На некоторые источники будут размещены ссылки, но иногда придется поискать дополнительную информацию самостоятельно.\n",
        "\n",
        "---\n",
        "\n",
        "Для начала мы рекомендуем ознакомиться с [Неофициальным введением в Python из официальной документации](https://docs.python.org/3/tutorial/introduction.html#lists).\n",
        "\n",
        "---\n",
        "\n",
        "Знакомство с Python мы продолжим на примере манипуляций с единицами измерения времени, т.к. время в машинном обучении почти всегда является либо признаком, либо явным или не явным таргетом.\n",
        "\n",
        "Перед продолжением обучения несколько рекомендаций:\n",
        "\n",
        "- Код выполняется слева направо и сверху вниз. Python не сможет обработать информацию, которая упоминается позже, и выдаст ошибку.\n",
        "- Одинаковых результатов можно добиться разными способами, поэтому почти всегда есть возможность для улучшения кода.\n",
        "- Счет в Python всегда начинается с 0!\n",
        "\n",
        "Удачи!"
      ]
    },
    {
      "cell_type": "markdown",
      "metadata": {
        "id": "oeUM7p0dTm3E"
      },
      "source": [
        "---\n",
        "\n",
        "# Единицы измерения времени\n",
        "\n",
        "## Однозначное соответствие \n",
        "Нам известно, что в минуте содержится 60 секунд, в часе - 60 минут, в сутках - 24 часа, а в неделе - 7 суток.  \n",
        "\n",
        "***Неделя*** является самой большой общепринятой единицей времени, содержащей точное количество дней. Однако, в практической деятельности, следует помнить, что не везде неделя начинается с понедельника. В США, Канаде, странах Латинской Америки, Японии и др. неделя начинается в воскресенье. В некоторых странах Северной Африки и Ближнего Востока неделя начинается с субботы. Есть страны, где неделя начинается в пятницу. \n",
        "\n",
        "Однозначность позволяет нам легко вычислять время в необходимом нам формате. Например, определим, сколько секунд содержится в одной неделе: \n",
        "\n",
        "*(Для выполнения кода, выделите необходимую ячейку ноутбука и нажмите Ctrl+Enter, если требуется остаться в ячейке, либо Shift+Enter, для выполнения и перехода к следующей ячейке)*"
      ]
    },
    {
      "cell_type": "code",
      "execution_count": null,
      "metadata": {
        "id": "D3du_P3STm3F",
        "outputId": "7b7427a2-1c1e-42b5-f048-54eba68287f0"
      },
      "outputs": [
        {
          "name": "stdout",
          "output_type": "stream",
          "text": [
            "В одной неделе содержится 604800 секунд\n"
          ]
        }
      ],
      "source": [
        "s_in_m = 60          # мы создали переменную, в которую записали значение 60, что равно количеству секунд в минуте\n",
        "s_in_h = 60 * s_in_m # на этой строке мы создали переменную, в которую записали 60 минут в секундах, т.е. 1 час\n",
        "s_in_d = 24 * s_in_h # так мы определили количество секунд в одном дне\n",
        "s_in_w = 7 * s_in_d  # и вот мы нашли количество секунд в неделе\n",
        "# выведем на экран результаты наших вычислений:\n",
        "print('В одной неделе содержится', s_in_w, 'секунд') "
      ]
    },
    {
      "cell_type": "code",
      "execution_count": null,
      "metadata": {
        "id": "bQ_MRTJyTm3H",
        "outputId": "da4e91af-3238-4203-81eb-217bf839b444"
      },
      "outputs": [
        {
          "name": "stdout",
          "output_type": "stream",
          "text": [
            "В одной неделе содержится 604800 секунд\n"
          ]
        }
      ],
      "source": [
        "# Того же результата можно добиться в одну строку, не формируя при этом переменных\n",
        "# Подобный способ допустим в том случае, если результаты вычислений в дальнейшем не используются\n",
        "\n",
        "print('В одной неделе содержится', 60*60*24*7, 'секунд')"
      ]
    },
    {
      "cell_type": "markdown",
      "metadata": {
        "id": "gmt8acXATm3I"
      },
      "source": [
        "---\n",
        "\n",
        "Рассмотрим еще один пример.\n",
        "\n",
        "Определим количество рабочих часов одного сотрудника за полные 3 недели, при условии, что работа проходит по графику 2 через 2, по 12 часов и началась в первый день первой недели:"
      ]
    },
    {
      "cell_type": "code",
      "execution_count": null,
      "metadata": {
        "id": "E1tLw3FQTm3I",
        "outputId": "1ea98a88-102e-4c91-9a84-fc4461bb4a35"
      },
      "outputs": [
        {
          "name": "stdout",
          "output_type": "stream",
          "text": [
            "132 ч.\n"
          ]
        }
      ],
      "source": [
        "# Для начала определим количество дней\n",
        "\n",
        "total_days = 7 * 3\n",
        "\n",
        "# Полный цикл (рабочие + выходные) составляет 4 дня. Количество рабочих дней, входящих в полный цикл, можно \n",
        "# определить так:\n",
        "\n",
        "total_days // 4 * 2 # Здесь // означает целочисленное деление, т.е. дробная часть отбрасывается\n",
        "\n",
        "# Теперь необходимо определить количество рабочих дней, не входящих в полный цикл. В нашей конкретной задаче мы \n",
        "# с вами знаем, что остался 1 день, и он будет рабочим. Но, в общем случае, может оставаться и два и три дня.\n",
        "# Определить количество оставшихся рабочих дней можно таким образом:\n",
        "\n",
        "min(total_days % 4, 2) # % - означает остаток от деления\n",
        "\n",
        "# Здесь min() является встроенной в Python функцией, возвращающей минимальное значение из всех рассматриваемых.\n",
        "# Если вы установите курсор внутри скобок и нажмете на клавиатуре Shift+Tab, то увидите описание функции.\n",
        "\n",
        "# Осталось подсчитать количество часов:\n",
        "\n",
        "total_hours = 12 * (total_days // 4 * 2 + min(total_days % 4, 2))\n",
        "\n",
        "# И вывести результат\n",
        "print(total_hours, 'ч.')"
      ]
    },
    {
      "cell_type": "markdown",
      "metadata": {
        "id": "Ag6rf9EZTm3J"
      },
      "source": [
        "---\n",
        "\n",
        "# Задание 1. \n",
        "\n",
        "Пришло время написать свою первую программу в ячейке ниже. Вы можете попробовать решить сейчас, или просмотреть обучающий материал до конца. \n",
        "\n",
        "Условие почти такое же, как у рассмотренного выше примера. Требуется определить количество рабочих часов четырех сотрудников работающих по графику 2 через 2 по 12 часов. Первый работник приступает к работе первого числа, второй - второго, третий - третьего, а четвертый - четвертого. Рассматриваемый период - февраль. Праздники отсутствуют. \n",
        "\n",
        "Результатом выполнения кода должна быть информация о том, сколько часов каждый из сотрудников отработал за месяц, а также общее количество отработанных часов.\n",
        "\n",
        "*Рекомендация: Существет множество верных решений поставленной задачи. Не обязательно следовать приведенному выше решению. Проявите креативность!*\n",
        "\n",
        "---"
      ]
    },
    {
      "cell_type": "code",
      "execution_count": null,
      "metadata": {
        "id": "Yp-QJPZgTm3J"
      },
      "outputs": [],
      "source": [
        "\n",
        "\n",
        "\n"
      ]
    },
    {
      "cell_type": "code",
      "source": [
        "\n",
        "def amount_of_days(days):\n",
        "  res_sum = 0\n",
        "  for i in range(0,4):\n",
        "    res_sum = res_sum + 12*((days - i) // 4 * 2 + (2 if (days - i) % 4 >= 2 else (days - i) % 4))\n",
        "    print(\"worker\"+str(i+1),12*((days - i) // 4 * 2 + (2 if (days - i) % 4 >= 2 else (days - i) % 4)))\n",
        "  print(\"whole sum: \", res_sum)\n",
        "  \n",
        "amount_of_days(28)\n"
      ],
      "metadata": {
        "colab": {
          "base_uri": "https://localhost:8080/"
        },
        "id": "UE_1v3kkFkBM",
        "outputId": "f77c3a0a-cbc8-43bf-b41d-a57c5ecd4045"
      },
      "execution_count": null,
      "outputs": [
        {
          "output_type": "stream",
          "name": "stdout",
          "text": [
            "worker1 168\n",
            "worker2 168\n",
            "worker3 168\n",
            "worker4 156\n",
            "whole sum:  660\n"
          ]
        }
      ]
    },
    {
      "cell_type": "markdown",
      "metadata": {
        "id": "69jaykGzTm3K"
      },
      "source": [
        "---\n",
        "\n",
        "Рассмотрим еще один пример. Вычислим, сколько прошло недель, дней, часов, минут и секунд, при условии, что нам известно совокупное количество секунд:\n",
        "\n",
        "---\n",
        "\n",
        "В условии задачи нет количества секунд, следовательно, эта информация должна поступить от пользователя\n",
        "Запросить информацию мы можем с помощью метода input():\n",
        "\n",
        "*Рекомендация: попробуйте найти и прочесть информацию о методе input()*"
      ]
    },
    {
      "cell_type": "code",
      "execution_count": null,
      "metadata": {
        "id": "6jyfz6rzTm3K",
        "outputId": "55ed7c9d-d701-4d7c-e6bf-bfcb73e9f228"
      },
      "outputs": [
        {
          "name": "stdout",
          "output_type": "stream",
          "text": [
            "987654321\n"
          ]
        }
      ],
      "source": [
        "# Присвоим переменной s информацию, полученную с помощью метода input():\n",
        "\n",
        "s = input() # введем, например, число 987654321"
      ]
    },
    {
      "cell_type": "code",
      "execution_count": null,
      "metadata": {
        "id": "TWgn9G1pTm3L",
        "outputId": "ea9f3d39-31b1-446c-a9c0-db2333926dce"
      },
      "outputs": [
        {
          "name": "stdout",
          "output_type": "stream",
          "text": [
            "Введите общее количество секунд: 987654321\n"
          ]
        }
      ],
      "source": [
        "# Получилось не очень наглядно. Попробуем добавить в запрос информацию для пользователя:\n",
        "\n",
        "s = input('Введите общее количество секунд: ') # опять вводим 987654321"
      ]
    },
    {
      "cell_type": "code",
      "execution_count": null,
      "metadata": {
        "id": "H03-ZD0BTm3L",
        "outputId": "6e2e8ddb-065d-48e3-868b-c53b8c1b1f96"
      },
      "outputs": [
        {
          "name": "stdout",
          "output_type": "stream",
          "text": [
            "<class 'str'>\n"
          ]
        }
      ],
      "source": [
        "# Теперь в переменной s у нас записана строка с общим количеством секунд. Метод input() любую вводимую информацию \n",
        "# воспринимает как строку. Со строкой мы не можем производить арифметические операции. Точнее можем, но они будут\n",
        "# либо приводить к неожиданным результатам, либо выдавать ошибку. Проверить тип переменной можно следующим способом:\n",
        "\n",
        "print(type(s))"
      ]
    },
    {
      "cell_type": "code",
      "execution_count": null,
      "metadata": {
        "id": "6jy5FIpVTm3M",
        "outputId": "070b3f71-d204-41df-b1b0-b86b9dc487d7"
      },
      "outputs": [
        {
          "name": "stdout",
          "output_type": "stream",
          "text": [
            "<class 'int'> 987654321\n"
          ]
        }
      ],
      "source": [
        "# Необходимо изменить тип переменной. Изменить на целочисленный тип можно с помощью метода int():\n",
        "\n",
        "s = int(s)\n",
        "print(type(s), s)"
      ]
    },
    {
      "cell_type": "code",
      "execution_count": null,
      "metadata": {
        "id": "nHPt9IJHTm3N",
        "outputId": "0a6f81cb-4bfc-48c0-b57b-f0cd56beae64"
      },
      "outputs": [
        {
          "name": "stdout",
          "output_type": "stream",
          "text": [
            "недель: 1633\n",
            "дней: 0\n",
            "часов: 4\n",
            "минут: 25\n",
            "секунд: 21\n"
          ]
        }
      ],
      "source": [
        "# Теперь у нас есть необходимая информация и мы можем приступить к решению задачи.\n",
        "# Определим общее количество целых минут:\n",
        "\n",
        "m = s // 60\n",
        "\n",
        "# В переменной секунд оставим только те секунды, которые меньше минуты:\n",
        "\n",
        "s = s % 60\n",
        "\n",
        "# Определим общее количество целых часов:\n",
        "\n",
        "h = m // 60\n",
        "\n",
        "# В переменной минут оставим только то, что меньше часа:\n",
        "\n",
        "m = m % 60\n",
        "\n",
        "# Определим общее количество целых дней:\n",
        "\n",
        "d = h // 24\n",
        "\n",
        "# В переменной часов оставим то, что меньше дня:\n",
        "\n",
        "h = h % 24\n",
        "\n",
        "# Определим количество недель, а переменную дней уменьшим до остатка:\n",
        "\n",
        "w = d // 7\n",
        "d = d % 7\n",
        "\n",
        "# Выведем результат:\n",
        "\n",
        "print('недель:', w)\n",
        "print('дней:', d)\n",
        "print('часов:', h)\n",
        "print('минут:', m)\n",
        "print('секунд:', s)"
      ]
    },
    {
      "cell_type": "markdown",
      "metadata": {
        "id": "xPMxMzo4Tm3N"
      },
      "source": [
        "---\n",
        "\n",
        "Обратите внимание, что нам пришлось многократно повторять практически одинаковые действия при решении задачи. В этом случае лучше создать пользвательскую функцию:"
      ]
    },
    {
      "cell_type": "code",
      "execution_count": 10,
      "metadata": {
        "id": "gOy_LQPrTm3O"
      },
      "outputs": [],
      "source": [
        "def time_metric_up(time, metric): # Создание функции начинается с def, затем следует название и в скобках \n",
        "                                  # входная информация, в конце ставится двоеточие\n",
        "    \"\"\"Параметры функции time_metric_up():\n",
        "        time - целое число, количество переводимого на уровень вверх времени;\n",
        "        metric - строка, показывает текущую единицу измерения времени.\n",
        "       Допустимые значения для параматра metric:\n",
        "           's' - секунды\n",
        "           'm' - минуты\n",
        "           'h' - часы\n",
        "           'd' - дни\n",
        "       Функция возвращает два значения:\n",
        "           первое значение - целое значение единиц времени после повышения уровня\n",
        "           второе значение - остаток времени в изначальных единицах измерения\"\"\"\n",
        "    \n",
        "    # Нам необходимо определить делитель. Для этого воспользуемся конструкцией \"если -> то\":\n",
        "    if metric == 'h':            # если единица измерения - часы,\n",
        "        x = 24                   # то делитель равен 24,\n",
        "    elif metric == 'd':          # иначе, если единица измерения - дни,\n",
        "        x = 7                    # то делитель равен 7,\n",
        "    else:                        # иначе\n",
        "        x = 60                   # делитель равен 60\n",
        "    return time // x, time % x   # возвращаем результаты вычислений"
      ]
    },
    {
      "cell_type": "code",
      "execution_count": 11,
      "metadata": {
        "id": "XjNIUAF4Tm3O",
        "outputId": "69275984-ec55-4304-dbec-7be58041b560",
        "colab": {
          "base_uri": "https://localhost:8080/",
          "height": 537
        }
      },
      "outputs": [
        {
          "output_type": "error",
          "ename": "KeyboardInterrupt",
          "evalue": "ignored",
          "traceback": [
            "\u001b[0;31m---------------------------------------------------------------------------\u001b[0m",
            "\u001b[0;31mKeyboardInterrupt\u001b[0m                         Traceback (most recent call last)",
            "\u001b[0;32m/usr/local/lib/python3.7/dist-packages/ipykernel/kernelbase.py\u001b[0m in \u001b[0;36m_input_request\u001b[0;34m(self, prompt, ident, parent, password)\u001b[0m\n\u001b[1;32m    728\u001b[0m             \u001b[0;32mtry\u001b[0m\u001b[0;34m:\u001b[0m\u001b[0;34m\u001b[0m\u001b[0;34m\u001b[0m\u001b[0m\n\u001b[0;32m--> 729\u001b[0;31m                 \u001b[0mident\u001b[0m\u001b[0;34m,\u001b[0m \u001b[0mreply\u001b[0m \u001b[0;34m=\u001b[0m \u001b[0mself\u001b[0m\u001b[0;34m.\u001b[0m\u001b[0msession\u001b[0m\u001b[0;34m.\u001b[0m\u001b[0mrecv\u001b[0m\u001b[0;34m(\u001b[0m\u001b[0mself\u001b[0m\u001b[0;34m.\u001b[0m\u001b[0mstdin_socket\u001b[0m\u001b[0;34m,\u001b[0m \u001b[0;36m0\u001b[0m\u001b[0;34m)\u001b[0m\u001b[0;34m\u001b[0m\u001b[0;34m\u001b[0m\u001b[0m\n\u001b[0m\u001b[1;32m    730\u001b[0m             \u001b[0;32mexcept\u001b[0m \u001b[0mException\u001b[0m\u001b[0;34m:\u001b[0m\u001b[0;34m\u001b[0m\u001b[0;34m\u001b[0m\u001b[0m\n",
            "\u001b[0;32m/usr/local/lib/python3.7/dist-packages/jupyter_client/session.py\u001b[0m in \u001b[0;36mrecv\u001b[0;34m(self, socket, mode, content, copy)\u001b[0m\n\u001b[1;32m    802\u001b[0m         \u001b[0;32mtry\u001b[0m\u001b[0;34m:\u001b[0m\u001b[0;34m\u001b[0m\u001b[0;34m\u001b[0m\u001b[0m\n\u001b[0;32m--> 803\u001b[0;31m             \u001b[0mmsg_list\u001b[0m \u001b[0;34m=\u001b[0m \u001b[0msocket\u001b[0m\u001b[0;34m.\u001b[0m\u001b[0mrecv_multipart\u001b[0m\u001b[0;34m(\u001b[0m\u001b[0mmode\u001b[0m\u001b[0;34m,\u001b[0m \u001b[0mcopy\u001b[0m\u001b[0;34m=\u001b[0m\u001b[0mcopy\u001b[0m\u001b[0;34m)\u001b[0m\u001b[0;34m\u001b[0m\u001b[0;34m\u001b[0m\u001b[0m\n\u001b[0m\u001b[1;32m    804\u001b[0m         \u001b[0;32mexcept\u001b[0m \u001b[0mzmq\u001b[0m\u001b[0;34m.\u001b[0m\u001b[0mZMQError\u001b[0m \u001b[0;32mas\u001b[0m \u001b[0me\u001b[0m\u001b[0;34m:\u001b[0m\u001b[0;34m\u001b[0m\u001b[0;34m\u001b[0m\u001b[0m\n",
            "\u001b[0;32m/usr/local/lib/python3.7/dist-packages/zmq/sugar/socket.py\u001b[0m in \u001b[0;36mrecv_multipart\u001b[0;34m(self, flags, copy, track)\u001b[0m\n\u001b[1;32m    624\u001b[0m         \"\"\"\n\u001b[0;32m--> 625\u001b[0;31m         \u001b[0mparts\u001b[0m \u001b[0;34m=\u001b[0m \u001b[0;34m[\u001b[0m\u001b[0mself\u001b[0m\u001b[0;34m.\u001b[0m\u001b[0mrecv\u001b[0m\u001b[0;34m(\u001b[0m\u001b[0mflags\u001b[0m\u001b[0;34m,\u001b[0m \u001b[0mcopy\u001b[0m\u001b[0;34m=\u001b[0m\u001b[0mcopy\u001b[0m\u001b[0;34m,\u001b[0m \u001b[0mtrack\u001b[0m\u001b[0;34m=\u001b[0m\u001b[0mtrack\u001b[0m\u001b[0;34m)\u001b[0m\u001b[0;34m]\u001b[0m\u001b[0;34m\u001b[0m\u001b[0;34m\u001b[0m\u001b[0m\n\u001b[0m\u001b[1;32m    626\u001b[0m         \u001b[0;31m# have first part already, only loop while more to receive\u001b[0m\u001b[0;34m\u001b[0m\u001b[0;34m\u001b[0m\u001b[0;34m\u001b[0m\u001b[0m\n",
            "\u001b[0;32mzmq/backend/cython/socket.pyx\u001b[0m in \u001b[0;36mzmq.backend.cython.socket.Socket.recv\u001b[0;34m()\u001b[0m\n",
            "\u001b[0;32mzmq/backend/cython/socket.pyx\u001b[0m in \u001b[0;36mzmq.backend.cython.socket.Socket.recv\u001b[0;34m()\u001b[0m\n",
            "\u001b[0;32mzmq/backend/cython/socket.pyx\u001b[0m in \u001b[0;36mzmq.backend.cython.socket._recv_copy\u001b[0;34m()\u001b[0m\n",
            "\u001b[0;32m/usr/local/lib/python3.7/dist-packages/zmq/backend/cython/checkrc.pxd\u001b[0m in \u001b[0;36mzmq.backend.cython.checkrc._check_rc\u001b[0;34m()\u001b[0m\n",
            "\u001b[0;31mKeyboardInterrupt\u001b[0m: ",
            "\nDuring handling of the above exception, another exception occurred:\n",
            "\u001b[0;31mKeyboardInterrupt\u001b[0m                         Traceback (most recent call last)",
            "\u001b[0;32m<ipython-input-11-8c292dbebb4b>\u001b[0m in \u001b[0;36m<module>\u001b[0;34m()\u001b[0m\n\u001b[1;32m      1\u001b[0m \u001b[0;31m#Теперь наш код будет выглядеть так:\u001b[0m\u001b[0;34m\u001b[0m\u001b[0;34m\u001b[0m\u001b[0;34m\u001b[0m\u001b[0m\n\u001b[1;32m      2\u001b[0m \u001b[0;34m\u001b[0m\u001b[0m\n\u001b[0;32m----> 3\u001b[0;31m \u001b[0ms\u001b[0m \u001b[0;34m=\u001b[0m \u001b[0mint\u001b[0m\u001b[0;34m(\u001b[0m\u001b[0minput\u001b[0m\u001b[0;34m(\u001b[0m\u001b[0;34m'Введите общее количество секунд: '\u001b[0m\u001b[0;34m)\u001b[0m\u001b[0;34m)\u001b[0m \u001b[0;31m# опять вводим 987654321\u001b[0m\u001b[0;34m\u001b[0m\u001b[0;34m\u001b[0m\u001b[0m\n\u001b[0m\u001b[1;32m      4\u001b[0m \u001b[0mm\u001b[0m\u001b[0;34m,\u001b[0m \u001b[0ms\u001b[0m \u001b[0;34m=\u001b[0m \u001b[0mtime_metric_up\u001b[0m\u001b[0;34m(\u001b[0m\u001b[0ms\u001b[0m\u001b[0;34m,\u001b[0m \u001b[0;34m's'\u001b[0m\u001b[0;34m)\u001b[0m\u001b[0;34m\u001b[0m\u001b[0;34m\u001b[0m\u001b[0m\n\u001b[1;32m      5\u001b[0m \u001b[0mh\u001b[0m\u001b[0;34m,\u001b[0m \u001b[0mm\u001b[0m \u001b[0;34m=\u001b[0m \u001b[0mtime_metric_up\u001b[0m\u001b[0;34m(\u001b[0m\u001b[0mm\u001b[0m\u001b[0;34m,\u001b[0m \u001b[0;34m'm'\u001b[0m\u001b[0;34m)\u001b[0m\u001b[0;34m\u001b[0m\u001b[0;34m\u001b[0m\u001b[0m\n",
            "\u001b[0;32m/usr/local/lib/python3.7/dist-packages/ipykernel/kernelbase.py\u001b[0m in \u001b[0;36mraw_input\u001b[0;34m(self, prompt)\u001b[0m\n\u001b[1;32m    702\u001b[0m             \u001b[0mself\u001b[0m\u001b[0;34m.\u001b[0m\u001b[0m_parent_ident\u001b[0m\u001b[0;34m,\u001b[0m\u001b[0;34m\u001b[0m\u001b[0;34m\u001b[0m\u001b[0m\n\u001b[1;32m    703\u001b[0m             \u001b[0mself\u001b[0m\u001b[0;34m.\u001b[0m\u001b[0m_parent_header\u001b[0m\u001b[0;34m,\u001b[0m\u001b[0;34m\u001b[0m\u001b[0;34m\u001b[0m\u001b[0m\n\u001b[0;32m--> 704\u001b[0;31m             \u001b[0mpassword\u001b[0m\u001b[0;34m=\u001b[0m\u001b[0;32mFalse\u001b[0m\u001b[0;34m,\u001b[0m\u001b[0;34m\u001b[0m\u001b[0;34m\u001b[0m\u001b[0m\n\u001b[0m\u001b[1;32m    705\u001b[0m         )\n\u001b[1;32m    706\u001b[0m \u001b[0;34m\u001b[0m\u001b[0m\n",
            "\u001b[0;32m/usr/local/lib/python3.7/dist-packages/ipykernel/kernelbase.py\u001b[0m in \u001b[0;36m_input_request\u001b[0;34m(self, prompt, ident, parent, password)\u001b[0m\n\u001b[1;32m    732\u001b[0m             \u001b[0;32mexcept\u001b[0m \u001b[0mKeyboardInterrupt\u001b[0m\u001b[0;34m:\u001b[0m\u001b[0;34m\u001b[0m\u001b[0;34m\u001b[0m\u001b[0m\n\u001b[1;32m    733\u001b[0m                 \u001b[0;31m# re-raise KeyboardInterrupt, to truncate traceback\u001b[0m\u001b[0;34m\u001b[0m\u001b[0;34m\u001b[0m\u001b[0;34m\u001b[0m\u001b[0m\n\u001b[0;32m--> 734\u001b[0;31m                 \u001b[0;32mraise\u001b[0m \u001b[0mKeyboardInterrupt\u001b[0m\u001b[0;34m\u001b[0m\u001b[0;34m\u001b[0m\u001b[0m\n\u001b[0m\u001b[1;32m    735\u001b[0m             \u001b[0;32melse\u001b[0m\u001b[0;34m:\u001b[0m\u001b[0;34m\u001b[0m\u001b[0;34m\u001b[0m\u001b[0m\n\u001b[1;32m    736\u001b[0m                 \u001b[0;32mbreak\u001b[0m\u001b[0;34m\u001b[0m\u001b[0;34m\u001b[0m\u001b[0m\n",
            "\u001b[0;31mKeyboardInterrupt\u001b[0m: "
          ]
        }
      ],
      "source": [
        "#Теперь наш код будет выглядеть так:\n",
        "\n",
        "s = int(input('Введите общее количество секунд: ')) # опять вводим 987654321\n",
        "m, s = time_metric_up(s, 's')\n",
        "h, m = time_metric_up(m, 'm')\n",
        "d, h = time_metric_up(h, 'h')\n",
        "w, d = time_metric_up(d, 'd')\n",
        "print('недель:', w)\n",
        "print('дней:', d)\n",
        "print('часов:', h)\n",
        "print('минут:', m)\n",
        "print('секунд:', s)"
      ]
    },
    {
      "cell_type": "markdown",
      "metadata": {
        "id": "ii-tmeSpTm3P"
      },
      "source": [
        "---\n",
        "\n",
        "# Задание 2\n",
        "\n",
        "Напишите функцию *time_metric_down(time, metric, metric_down)*, которая на вход принимает три значения:\n",
        "- time - количество единиц времени, целое число;\n",
        "- metric - единица измерения времени ('w', 'd', 'h', 'm');\n",
        "- metric_down - в какой единице измерения необходимо получить результат ('d', 'h', 'm', 's');\n",
        "\n",
        "В этой задаче metric_down является меньшей единицей измерения, чем metric.\n",
        "\n",
        "Пример реализации функции:\n",
        "\n",
        "*time_metric_down(10, 'h', 's')*\n",
        "\n",
        "*>>> 36000*\n",
        "\n",
        "Т.е. в 10 часах содержится 36000 секунд.\n",
        "\n",
        "---"
      ]
    },
    {
      "cell_type": "code",
      "execution_count": 12,
      "metadata": {
        "id": "dJYZLkcQTm3P"
      },
      "outputs": [],
      "source": [
        "\"\"\"Решение задания 2\"\"\"\n",
        "\n",
        "#def time_metric_down(time, metric, metric_down):\n",
        "\n",
        "def time_metric_down(time, metric, metric_down):\n",
        "    if metric == \"w\":\n",
        "        time *= 7\n",
        "        if metric_down == \"d\":\n",
        "            return time\n",
        "    if metric == \"w\" or metric == \"d\":\n",
        "        time *= 24\n",
        "        if metric_down == \"h\":\n",
        "            return time\n",
        "    if metric == \"w\" or metric == \"d\" or metric == \"h\":\n",
        "        time *= 60\n",
        "        if metric_down == \"m\":\n",
        "            return time\n",
        "    if metric == \"w\" or metric == \"d\" or metric == \"h\" or metric == \"m\":\n",
        "        time *= 60\n",
        "        if metric_down == \"s\":\n",
        "            return time\n",
        "    "
      ]
    },
    {
      "cell_type": "markdown",
      "metadata": {
        "id": "uECTPbOhTm3Q"
      },
      "source": [
        "---\n",
        "\n",
        "Для проверки правильности решения, запустите код в ячейке ниже"
      ]
    },
    {
      "cell_type": "code",
      "execution_count": 13,
      "metadata": {
        "id": "xJ4mMTuXTm3Q",
        "colab": {
          "base_uri": "https://localhost:8080/"
        },
        "outputId": "dad27fa6-37e9-4ee2-e071-190d6ed095fb"
      },
      "outputs": [
        {
          "output_type": "stream",
          "name": "stdout",
          "text": [
            "Ошибки не выявлены\n"
          ]
        }
      ],
      "source": [
        "if (time_metric_down(10, 'h', 's') == 36000 and time_metric_down(1, 'w', 'd') == 7 and \n",
        "    time_metric_down(1, 'w', 'h') == 168 and time_metric_down(1, 'w', 'm') == 10080 and \n",
        "    time_metric_down(1, 'w', 's') == 604800):\n",
        "    print('Ошибки не выявлены')\n",
        "else:\n",
        "    print('Выявлены ошибки')"
      ]
    },
    {
      "cell_type": "markdown",
      "metadata": {
        "id": "pkgRZXS1Tm3Q"
      },
      "source": [
        "---\n",
        "\n",
        "## Однозначное соответствие (продолжение)\n",
        "\n",
        "Так же нам известны соотношения для единиц измерения времени, не превышающих секунду:\n",
        "\n",
        "- Терция - $ \\frac{1}{60}$ секунды\n",
        "- Сантисекунда - $10^{-2}$ секунды\n",
        "- Миллисекунда - $10^{-3}$ секунды\n",
        "- Микросекунда - $10^{-6}$ секунды\n",
        "- Наносекунда - $10^{-9}$ секунды\n",
        "- Пикосекунда - $10^{-12}$ секунды\n",
        "- Фемтосекунда - $10^{-15}$ секунды\n",
        "- Аттосекунда - $10^{-18}$ секунды\n",
        "- Зептосекунда - $10^{-21}$ секунды\n",
        "- Иоктосекунда - $10^{-24}$ секунды\n",
        "\n",
        "Зачем про них знать? Во-первых они существуют, а во-вторых - когда мы начинаем оценивать качество кода, то именно милли и микросекунды приводят к дополнительным многочасовым ожиданиям выполнения программы. \n",
        "\n",
        "Рассмотрим этот эффект на простом примере, заодно познакомимся со списками, циклами и генераторами.\n",
        "\n",
        "[Списки](https://docs.python.org/3/tutorial/datastructures.html?highlight=list#more-on-lists)\n",
        "\n",
        "----\n",
        "\n",
        "Сформируем последовательности квадратов чисел от 1 до 1 млн семью разными способами и замерим время выполнения при каждом способе:"
      ]
    },
    {
      "cell_type": "code",
      "execution_count": null,
      "metadata": {
        "id": "fo06nsxjTm3R",
        "outputId": "2e558281-00b8-437a-c9fb-81e41781a4e7"
      },
      "outputs": [
        {
          "name": "stdout",
          "output_type": "stream",
          "text": [
            "241 ms ± 1.34 ms per loop (mean ± std. dev. of 7 runs, 1 loop each)\n"
          ]
        }
      ],
      "source": [
        "%%timeit                              # Замеряем время выполнения кода в ячейке\n",
        "s = [j**2 for j in range(1, 1000001)] # Генератор последовательно формирует квадраты чисел от 1 до 1 млн и все \n",
        "                                      # разом записывает в список"
      ]
    },
    {
      "cell_type": "markdown",
      "metadata": {
        "id": "JMmvTcd_Tm3R"
      },
      "source": [
        "---\n",
        "\n",
        "Здесь запись *j**2* = $j^2$\n",
        "\n",
        "В результате получили среднее время и стандартное отклонение. Для семи способов не самый удобный способ измерения времени, т.к. придется собирать результаты вручную. \n",
        "\n",
        "Для автоматизации вычислений представим все 7 способов в виде функций:\n"
      ]
    },
    {
      "cell_type": "code",
      "execution_count": null,
      "metadata": {
        "id": "mmdBYWW6Tm3S"
      },
      "outputs": [],
      "source": [
        "import math                      # Импортируем библиотеку math, с различными математическими функциями\n",
        "\n",
        "def f1():                        # Функция с циклом for\n",
        "    s_for = []                   # Формирование пустого списка. Список - изменяемый тип данных, предназначенный для\n",
        "                                 # хранения объектов произвольных типов\n",
        "    for j in range(1, 1000001):  # Для переменной j, изменяющейся последовательно от 1 до 1 млн, выполнить\n",
        "        s_for.append(j**2)       # Записать в список последним элементом значение квадрата переменной j\n",
        "    return s_for\n",
        "        \n",
        "def f2():                        # Функция с циклом while\n",
        "    s_while=[]\n",
        "    j = 1                        # Присвоить переменной j значение 1\n",
        "    while j <= 1000000:          # Пока j не превышает 1 млн, выполнять\n",
        "        s_while.append(j**2)\n",
        "        j += 1                   # Увеличить переменную j на единицу\n",
        "    return s_while\n",
        "        \n",
        "def f3():                        # Функция с генератором и умножением\n",
        "    s = [j*j for j in range(1, 1000001)]\n",
        "    return s\n",
        "    \n",
        "def f4():                        # Функция с генератором и возведением в степень\n",
        "    s = [j**2 for j in range(1, 1000001)]\n",
        "    return s\n",
        "    \n",
        "def xx(x):                       # Дополнительная функция, умножающая полученное число само на себя\n",
        "    return x*x\n",
        "\n",
        "def x2(x):                       # Дополнительная функция, возводящая в квадрат полученное число\n",
        "    return x**2\n",
        "    \n",
        "def f5():                        # Функция с генератором и умножением с помощью функции\n",
        "    s = [xx(j) for j in range(1, 1000001)]\n",
        "    return s\n",
        "    \n",
        "def f6():                        # Функция с генератором и возведением в степень с помощью функции\n",
        "    s = [x2(j) for j in range(1, 1000001)]\n",
        "    return s\n",
        "    \n",
        "def f7():                        # Функция с генератором и возведением в степень с помощью функции pow() библиотеки math\n",
        "    s = [math.pow(j,2) for j in range(1, 1000001)]\n",
        "    return s"
      ]
    },
    {
      "cell_type": "markdown",
      "metadata": {
        "id": "8pAvHez1Tm3S"
      },
      "source": [
        "---\n",
        "\n",
        "*math.pow(j,2) = $j^2$*\n",
        "\n",
        "*Подробнее про библиотеку math:*\n",
        "\n",
        "[Официальная документация](https://docs.python.org/3/library/math.html)\n",
        "\n",
        "Дальше идея решения задачи заключается в том, чтобы последовательно вызывать созданные функции несколько раз (ограничимся сотней итераций), замерять время их выполнения и сохранять результаты. После получения всех результатов имеет смысл перейти к процентным соотношениям, приняв за 100% самый медленный результат."
      ]
    },
    {
      "cell_type": "code",
      "execution_count": null,
      "metadata": {
        "id": "HzslcjqATm3S"
      },
      "outputs": [],
      "source": [
        "from timeit import timeit    # Импорт из библиотеки timeit функции timeit()\n",
        "import numpy as np           # Импорт библиотеки Numpy"
      ]
    },
    {
      "cell_type": "markdown",
      "metadata": {
        "id": "5wK9HuvXTm3T"
      },
      "source": [
        "---\n",
        "\n",
        "[timeit](https://docs.python.org/3/library/timeit.html)\n",
        "\n",
        "[numpy](https://numpy.org)\n",
        "\n",
        "[numpy - краткий справочник на русском языке](https://pythonworld.ru/numpy)\n",
        "\n",
        "---"
      ]
    },
    {
      "cell_type": "code",
      "execution_count": null,
      "metadata": {
        "id": "Z9HyPz8ZTm3T"
      },
      "outputs": [],
      "source": [
        "func = ['f1', 'f2', 'f3', 'f4', 'f5', 'f6', 'f7']  # Создание списка имен функций\n",
        "time = []                                          # Создание пустого списка времени выполнения функций\n",
        "# Далее код, который в цикле запускает функции, определяет время их выполнения 100 раз\n",
        "# и записывает результат в список time\n",
        "if __name__ == '__main__':\n",
        "    for j in func:\n",
        "        time.append(timeit(j+'()', setup = 'from __main__ import '+j, number = 100))\n",
        "\n",
        "time = np.array(time)                              # Перевод списка в массив numpy, для удобства вычислений\n",
        "time = time*100/time.max()                         # Определение процента скорости (максимум = 100%)"
      ]
    },
    {
      "cell_type": "markdown",
      "metadata": {
        "id": "hUia5o5OTm3T"
      },
      "source": [
        "---\n",
        "\n",
        "Конструкция *if __name__ == '__main__':* будет встречаться достаточно редко, и в рамках бассейна скорее всего больше не возникнет, но при поиске в Интернет вы можете с ней столкнуться, поэтому мы решили показать вам ее. Если говорить просто, то конструкция означает, что внутри блока будут использоваться объекты (переменные, функции и т.д.) сформированные в рамках текущего кода (не импортированные). Внутри цикла осуществляется импорт требуемых объектов из текущего кода для их последующей передаче функции timeit()."
      ]
    },
    {
      "cell_type": "markdown",
      "metadata": {
        "id": "GPHLx_TPTm3U"
      },
      "source": [
        "---\n",
        "\n",
        "Выведем результат вычислений:"
      ]
    },
    {
      "cell_type": "code",
      "execution_count": null,
      "metadata": {
        "id": "3XG4qcCOTm3U",
        "outputId": "74525405-9df9-4a5e-ae65-08bd8e80b5d7"
      },
      "outputs": [
        {
          "name": "stdout",
          "output_type": "stream",
          "text": [
            "f1 - 89.43588891016951\n",
            "f2 - 98.75581963189745\n",
            "f3 - 23.095205069702153\n",
            "f4 - 78.9125681596182\n",
            "f5 - 37.476565436967284\n",
            "f6 - 100.00000000000001\n",
            "f7 - 58.47494661420037\n"
          ]
        }
      ],
      "source": [
        "for i, j in zip(func, time): # zip позволяет брать последовательно элементы из разных списков\n",
        "    print(i, '-', j)"
      ]
    },
    {
      "cell_type": "markdown",
      "metadata": {
        "id": "-3u88x__Tm3V"
      },
      "source": [
        "---\n",
        "\n",
        "Результат получился, но выглядит некрасиво. Округлим значения до двух знаков после запятой и добавим знак процента:"
      ]
    },
    {
      "cell_type": "code",
      "execution_count": null,
      "metadata": {
        "id": "vHFS7zp3Tm3W",
        "outputId": "17ef8ab6-f4c6-4563-8269-c733b384dae5"
      },
      "outputs": [
        {
          "name": "stdout",
          "output_type": "stream",
          "text": [
            "f1 - 89.44%\n",
            "f2 - 98.76%\n",
            "f3 - 23.1%\n",
            "f4 - 78.91%\n",
            "f5 - 37.48%\n",
            "f6 - 100.0%\n",
            "f7 - 58.47%\n"
          ]
        }
      ],
      "source": [
        "for i, j in zip(func, time):\n",
        "    print(i, '-', str(round(j,2))+'%')"
      ]
    },
    {
      "cell_type": "markdown",
      "metadata": {
        "id": "6LYomTQZTm3X"
      },
      "source": [
        "---\n",
        "\n",
        "Уже получилсоь хорошо, а можно сделать лучше, представив результаты в виде гистограммы:\n",
        "\n",
        "*Подробнее про графику в Python:*\n",
        "\n",
        "[Официальная документация по Matplotlib](https://matplotlib.org)\n",
        "\n",
        "[Учебник по Matplotlib на русском языке](https://nbviewer.jupyter.org/github/whitehorn/Scientific_graphics_in_python/blob/master/P1%20Chapter%201%20Pyplot.ipynb)"
      ]
    },
    {
      "cell_type": "code",
      "execution_count": null,
      "metadata": {
        "id": "DaSpszb4Tm3Z",
        "outputId": "9f322b02-3af5-49af-de31-ee1afbef751d"
      },
      "outputs": [
        {
          "data": {
            "image/png": "[encoded data removed]",
            "text/plain": [
              "<Figure size 432x288 with 1 Axes>"
            ]
          },
          "metadata": {
            "needs_background": "light"
          },
          "output_type": "display_data"
        }
      ],
      "source": [
        "import matplotlib.pyplot as plt # Импортируем инструменты для построения гистограммы\n",
        "\n",
        "plt.bar(func, time)             # Строим гистограмму\n",
        "plt.show()"
      ]
    },
    {
      "cell_type": "markdown",
      "metadata": {
        "id": "crmZwDHWTm3Z"
      },
      "source": [
        "---\n",
        "\n",
        "Эксперимент показывает, что быстрее всего выполняется код с генератором. Вообще циклы в Python являются довольно медленными, и по возможности необходимо от них отказываться. Избавиться от циклов во многом помогают генераторы и библиотеки NumPy и Pandas. Библиотеки для разработки моделей машинного обучения реализованы таким образом, чтобы не задействовать циклы в Python. Однако полностью избавиться от циклов не получается.\n",
        "\n",
        "Второй наглядный результат - это при возведении в квадрат лучше умножать число на само себя. В случае других степеней - лучше пользоваться функцией ***math.pow()***.\n",
        "\n",
        "В заключении примера убедимся, что сформированные разными способами списки равны между собой, а так же посмотрим немного на список, что в нем находится."
      ]
    },
    {
      "cell_type": "code",
      "execution_count": null,
      "metadata": {
        "id": "q6m0TedoTm3a",
        "outputId": "c455bed8-1d13-42a9-f21f-ea5f61aabb57"
      },
      "outputs": [
        {
          "name": "stdout",
          "output_type": "stream",
          "text": [
            "Равны ли результаты между собой?\n",
            "True\n",
            "\n",
            "Что находится в первых 20 элементах списка?\n",
            "[1, 4, 9, 16, 25, 36, 49, 64, 81, 100, 121, 144, 169, 196, 225, 256, 289, 324, 361, 400]\n",
            "\n",
            "Выведем квадраты чисел от 1 до 9:\n",
            "Число Квадрат\n",
            "1     1\n",
            "2     4\n",
            "3     9\n",
            "4     16\n",
            "5     25\n",
            "6     36\n",
            "7     49\n",
            "8     64\n",
            "9     81\n"
          ]
        }
      ],
      "source": [
        "s = f3()                     # Сохраним решение самой быстрой функции f3() в переменную s\n",
        "print('Равны ли результаты между собой?')\n",
        "print(f1() == f2() == s == f4() == f5() == f6() == f7()) # Равны ли списки между собой?\n",
        "print()\n",
        "print('Что находится в первых 20 элементах списка?')\n",
        "print(s[:20])                # Срез списка показывает первые 20 элементов\n",
        "print()\n",
        "print('Выведем квадраты чисел от 1 до 9:')\n",
        "print('Число Квадрат')\n",
        "for j in range(9):           # В цикле выведем первые 9 элементов списка (j изменяется от 0 до 8)\n",
        "    print(j+1,'   ', s[j])   # Нумерация элементов списка начинается с нуля, поэтому, чтобы показать квадрат какого\n",
        "                             # числа выводится, мы записываем j+1, а адрес в списке просто j. Можно \n",
        "                             # интерпритировать так: Квадрат числа j+1 записан в списке s под номером j"
      ]
    },
    {
      "cell_type": "markdown",
      "metadata": {
        "id": "OL3TWO_ZTm3a"
      },
      "source": [
        "---\n",
        "\n",
        "Первый *print* вывел значение **True**. Все операции сравнения, а так же операции проверки принадлежности имеют ответом булеву переменную, которая принимает значение True (истина), если, например, неравенство (условие) выполняется, и False в противном случае. Подробнее:\n",
        "\n",
        "[Официальная документация](https://docs.python.org/3/library/stdtypes.html#boolean-operations-and-or-not)"
      ]
    },
    {
      "cell_type": "markdown",
      "metadata": {
        "id": "t6tDXiWeTm3a"
      },
      "source": [
        "---\n",
        "\n",
        "# Задание 3\n",
        "\n",
        "***n!*** - это факториал числа n, т.е. произведение всех целых чисел от 1 до n включительно. 0!=1\n",
        "\n",
        "Требуется реализовать не менее, чем тремя способами, нахождение *n!* и определить эффективный способ расчета. Реализовать код необходимо через функцию *fctrl(n)*, в которую подается число n. Можно использовать любое количество дополнительных функций. После нахождения эффективного метода расчета факториала числа n, нужно переписать код в функцию *best_fctrl(n)*. Один из способов обязательно должен использовать библиотеку math.\n",
        "\n",
        "*Подсказка*: можете пробовать использовать различные встроенные или внешние библиотеки, рекурсию, циклы. Замер скорости исполнения нужно проводить на достаточно большом значении аргумента n, например, при n=1000.\n",
        "\n",
        "---"
      ]
    },
    {
      "cell_type": "code",
      "execution_count": null,
      "metadata": {
        "id": "VYcB9-D7Tm3b",
        "colab": {
          "base_uri": "https://localhost:8080/",
          "height": 130
        },
        "outputId": "2d6a3969-172a-4759-ddc2-0b135bffef6d"
      },
      "outputs": [
        {
          "output_type": "error",
          "ename": "IndentationError",
          "evalue": "ignored",
          "traceback": [
            "\u001b[0;36m  File \u001b[0;32m\"<ipython-input-11-41b63188eeeb>\"\u001b[0;36m, line \u001b[0;32m2\u001b[0m\n\u001b[0;31m    SELECT pyruleset, pxcommitdatetime,pyrulename FROM pr4_rule\u001b[0m\n\u001b[0m         ^\u001b[0m\n\u001b[0;31mIndentationError\u001b[0m\u001b[0;31m:\u001b[0m expected an indented block\n"
          ]
        }
      ],
      "source": [
        "def best_fctrl(n):\n",
        "SELECT pyruleset, pxcommitdatetime,pyrulename FROM pr4_rule\n",
        "WHERE pxcommitdatetime > TO_TIMESTAMP(\n",
        "    '2020-05-31 1:00:00',\n",
        "    'YYYY-MM-DD HH:MI:SS'\n",
        ") AND pyruleset \n",
        "IN ('CorpLoansFW', 'CorpLoansFW_portal', 'CorpLoansFW_ru');\n",
        "    "
      ]
    },
    {
      "cell_type": "markdown",
      "metadata": {
        "id": "WCjLOlCWTm3c"
      },
      "source": [
        "---\n",
        "\n",
        "Для проверки правильности решения запустите ячейку ниже:"
      ]
    },
    {
      "cell_type": "code",
      "execution_count": null,
      "metadata": {
        "id": "XbBmwQUWTm3c"
      },
      "outputs": [],
      "source": [
        "if (best_fctrl(0) == 1 and best_fctrl(1) == 1 and best_fctrl(2) == 2 and best_fctrl(3) == 6 and \n",
        "    best_fctrl(10) == 3628800):\n",
        "    print('Ошибки не выявлены')\n",
        "else:\n",
        "    print('Выявлены ошибки')\n"
      ]
    },
    {
      "cell_type": "code",
      "execution_count": 8,
      "metadata": {
        "id": "WASwM_65Tm3b",
        "colab": {
          "base_uri": "https://localhost:8080/"
        },
        "outputId": "4c2e08c6-befa-481d-debf-4423e01d2697"
      },
      "outputs": [
        {
          "output_type": "stream",
          "name": "stdout",
          "text": [
            "factorial1(n) - 100.0%\n",
            "factorial2(n) - 29.19%\n",
            "factorial3(n) - 16.58%\n"
          ]
        }
      ],
      "source": [
        "\"\"\"Решение задания 3\"\"\"\n",
        "import math\n",
        "import numpy as np\n",
        "\n",
        "import timeit\n",
        "def factorial1(n):\n",
        "  if n==0:\n",
        "    return 1\n",
        "  return n* factorial1(n-1)\n",
        "#print(factorial1(0))\n",
        "def factorial2(n):\n",
        "  if(n == 0):\n",
        "    return 1\n",
        "  fac = 1\n",
        "  while n:\n",
        "    fac = fac*n\n",
        "    n-=1\n",
        "  return fac\n",
        "#print(factorial2(0))\n",
        "\n",
        "def factorial3(n):\n",
        "  return math.factorial(n)\n",
        "func = ['factorial1(n)', 'factorial2(n)', 'factorial3(n)']\n",
        "time_list = []\n",
        "n = 100\n",
        "for i in func:\n",
        "  t = timeit.Timer(i, globals=locals())  \n",
        "  time_list.append(t.timeit(1))\n",
        "#print(time_list)\n",
        "time_list = np.array(time_list)\n",
        "time_list = time_list*100/time_list.max() \n",
        "for i, j in zip(func, time_list):\n",
        "    print(i, '-', str(round(j,2))+'%')\n"
      ]
    },
    {
      "cell_type": "markdown",
      "metadata": {
        "id": "mFJM7kU1Tm3d"
      },
      "source": [
        "---\n",
        "\n",
        "## Однозначное соответствие (продолжение)\n",
        "\n",
        "Так же нам известны некоторые соотношения для единиц измерения времени, превышающих неделю:\n",
        "\n",
        "- год - 12 месяцев\n",
        "- десятилетие - 10 лет\n",
        "- индикт - 15 лет\n",
        "- век - $10^2$ лет\n",
        "- миллениум - $10^3$ лет\n",
        "- гигагод - $10^9$ лет\n",
        "\n",
        "Возраст Земли составляет примерно 4,5 гигагода.\n"
      ]
    },
    {
      "cell_type": "markdown",
      "metadata": {
        "id": "WqDmKz8kTm3d"
      },
      "source": [
        "---\n",
        "\n",
        "# Задание 4\n",
        "\n",
        "Требуется написать код, который высчитывает минимальное требуемое количество сотрудников, выполняющих однотипную работу, в предположении, что все сотрудники единовременно выполняют одну единицу работы за одинаковое время и без перерывов. Код должен состоять из пользовательской функции, выполняющей все расчеты, и запроса информации от пользователей.\n",
        "\n",
        "Общий принцип работы кода:\n",
        "1. От пользователя последовательно запрашивается информация:\n",
        "    - *workers* - количество сотрудников, которые уже выполняют задачи;\n",
        "    - *tasks* - количество задач, которые нужно выполнить;\n",
        "    - *time* - время, за которое выполняется одна задача (все задачи выполняются за равное количество времени);\n",
        "    - *overall_time* - время, в которое нужно уложиться при выполнении задач.\n",
        "\n",
        "  Эти же данные передаются в функцию *new_workers()*.\n",
        "2. Функции *new_workers()* передается вся полученная информация.\n",
        "3. Функция *new_workers()* производит расчеты и возвращает минимальное количество сотрудников для выполнения всех задач за заданное время *overall_time*.\n",
        "4. На экран выводится результат *new_workers()*.\n",
        "\n",
        "---\n",
        "\n",
        "Пример выполнения:\n",
        "\n",
        "Вводится следующая информация:\n",
        "\n",
        "- *workers = 3*\n",
        "- *tasks = 6* \n",
        "- *time = 2* \n",
        "- *overall_time = 3*\n",
        "\n",
        "Вывод:\n",
        "\n",
        "*new_workers = 3*\n",
        "\n",
        "Пояснение:\n",
        "\n",
        "Сейчас у нас есть 3 работника, то есть параллельно мы можем выполнять максимум 3 задачи. Каждая задача занимает 2 единицы времени. Чтобы выполнить 6 задач за 3 единицы времени, нам придется распараллелить их все сразу, т.е. нанять еще троих работников.\n",
        "\n",
        "---\n",
        "\n",
        "*Примечание: вводиться должны иcключительно целые положительные числа!*"
      ]
    },
    {
      "cell_type": "code",
      "source": [
        "# выполнение задания 4\n",
        "\n",
        "def add_workers(workers, tasks, time, overall_time):\n",
        "  if time > overall_time:\n",
        "    print(\"Too slow work\")\n",
        "    return 0\n",
        "  res = ((tasks - overall_time // time*workers) // (overall_time // time))\n",
        "  if res < 0:\n",
        "    print(\"Too many workers\")\n",
        "    return 0\n",
        "  return res\n",
        "\n",
        "workers = int(input())\n",
        "tasks = int(input())\n",
        "time = int(input())\n",
        "overall_time = int(input())\n",
        "\n",
        "res = add_workers(workers, tasks, time, overall_time)\n",
        "print(res)\n",
        "\n",
        "  "
      ],
      "metadata": {
        "id": "bWoPglEB03x6",
        "colab": {
          "base_uri": "https://localhost:8080/",
          "height": 537
        },
        "outputId": "8528eeab-d10e-4d89-e747-164e4916f920"
      },
      "execution_count": 14,
      "outputs": [
        {
          "output_type": "error",
          "ename": "KeyboardInterrupt",
          "evalue": "ignored",
          "traceback": [
            "\u001b[0;31m---------------------------------------------------------------------------\u001b[0m",
            "\u001b[0;31mKeyboardInterrupt\u001b[0m                         Traceback (most recent call last)",
            "\u001b[0;32m/usr/local/lib/python3.7/dist-packages/ipykernel/kernelbase.py\u001b[0m in \u001b[0;36m_input_request\u001b[0;34m(self, prompt, ident, parent, password)\u001b[0m\n\u001b[1;32m    728\u001b[0m             \u001b[0;32mtry\u001b[0m\u001b[0;34m:\u001b[0m\u001b[0;34m\u001b[0m\u001b[0;34m\u001b[0m\u001b[0m\n\u001b[0;32m--> 729\u001b[0;31m                 \u001b[0mident\u001b[0m\u001b[0;34m,\u001b[0m \u001b[0mreply\u001b[0m \u001b[0;34m=\u001b[0m \u001b[0mself\u001b[0m\u001b[0;34m.\u001b[0m\u001b[0msession\u001b[0m\u001b[0;34m.\u001b[0m\u001b[0mrecv\u001b[0m\u001b[0;34m(\u001b[0m\u001b[0mself\u001b[0m\u001b[0;34m.\u001b[0m\u001b[0mstdin_socket\u001b[0m\u001b[0;34m,\u001b[0m \u001b[0;36m0\u001b[0m\u001b[0;34m)\u001b[0m\u001b[0;34m\u001b[0m\u001b[0;34m\u001b[0m\u001b[0m\n\u001b[0m\u001b[1;32m    730\u001b[0m             \u001b[0;32mexcept\u001b[0m \u001b[0mException\u001b[0m\u001b[0;34m:\u001b[0m\u001b[0;34m\u001b[0m\u001b[0;34m\u001b[0m\u001b[0m\n",
            "\u001b[0;32m/usr/local/lib/python3.7/dist-packages/jupyter_client/session.py\u001b[0m in \u001b[0;36mrecv\u001b[0;34m(self, socket, mode, content, copy)\u001b[0m\n\u001b[1;32m    802\u001b[0m         \u001b[0;32mtry\u001b[0m\u001b[0;34m:\u001b[0m\u001b[0;34m\u001b[0m\u001b[0;34m\u001b[0m\u001b[0m\n\u001b[0;32m--> 803\u001b[0;31m             \u001b[0mmsg_list\u001b[0m \u001b[0;34m=\u001b[0m \u001b[0msocket\u001b[0m\u001b[0;34m.\u001b[0m\u001b[0mrecv_multipart\u001b[0m\u001b[0;34m(\u001b[0m\u001b[0mmode\u001b[0m\u001b[0;34m,\u001b[0m \u001b[0mcopy\u001b[0m\u001b[0;34m=\u001b[0m\u001b[0mcopy\u001b[0m\u001b[0;34m)\u001b[0m\u001b[0;34m\u001b[0m\u001b[0;34m\u001b[0m\u001b[0m\n\u001b[0m\u001b[1;32m    804\u001b[0m         \u001b[0;32mexcept\u001b[0m \u001b[0mzmq\u001b[0m\u001b[0;34m.\u001b[0m\u001b[0mZMQError\u001b[0m \u001b[0;32mas\u001b[0m \u001b[0me\u001b[0m\u001b[0;34m:\u001b[0m\u001b[0;34m\u001b[0m\u001b[0;34m\u001b[0m\u001b[0m\n",
            "\u001b[0;32m/usr/local/lib/python3.7/dist-packages/zmq/sugar/socket.py\u001b[0m in \u001b[0;36mrecv_multipart\u001b[0;34m(self, flags, copy, track)\u001b[0m\n\u001b[1;32m    624\u001b[0m         \"\"\"\n\u001b[0;32m--> 625\u001b[0;31m         \u001b[0mparts\u001b[0m \u001b[0;34m=\u001b[0m \u001b[0;34m[\u001b[0m\u001b[0mself\u001b[0m\u001b[0;34m.\u001b[0m\u001b[0mrecv\u001b[0m\u001b[0;34m(\u001b[0m\u001b[0mflags\u001b[0m\u001b[0;34m,\u001b[0m \u001b[0mcopy\u001b[0m\u001b[0;34m=\u001b[0m\u001b[0mcopy\u001b[0m\u001b[0;34m,\u001b[0m \u001b[0mtrack\u001b[0m\u001b[0;34m=\u001b[0m\u001b[0mtrack\u001b[0m\u001b[0;34m)\u001b[0m\u001b[0;34m]\u001b[0m\u001b[0;34m\u001b[0m\u001b[0;34m\u001b[0m\u001b[0m\n\u001b[0m\u001b[1;32m    626\u001b[0m         \u001b[0;31m# have first part already, only loop while more to receive\u001b[0m\u001b[0;34m\u001b[0m\u001b[0;34m\u001b[0m\u001b[0;34m\u001b[0m\u001b[0m\n",
            "\u001b[0;32mzmq/backend/cython/socket.pyx\u001b[0m in \u001b[0;36mzmq.backend.cython.socket.Socket.recv\u001b[0;34m()\u001b[0m\n",
            "\u001b[0;32mzmq/backend/cython/socket.pyx\u001b[0m in \u001b[0;36mzmq.backend.cython.socket.Socket.recv\u001b[0;34m()\u001b[0m\n",
            "\u001b[0;32mzmq/backend/cython/socket.pyx\u001b[0m in \u001b[0;36mzmq.backend.cython.socket._recv_copy\u001b[0;34m()\u001b[0m\n",
            "\u001b[0;32m/usr/local/lib/python3.7/dist-packages/zmq/backend/cython/checkrc.pxd\u001b[0m in \u001b[0;36mzmq.backend.cython.checkrc._check_rc\u001b[0;34m()\u001b[0m\n",
            "\u001b[0;31mKeyboardInterrupt\u001b[0m: ",
            "\nDuring handling of the above exception, another exception occurred:\n",
            "\u001b[0;31mKeyboardInterrupt\u001b[0m                         Traceback (most recent call last)",
            "\u001b[0;32m<ipython-input-14-1f95300ff31d>\u001b[0m in \u001b[0;36m<module>\u001b[0;34m()\u001b[0m\n\u001b[1;32m     11\u001b[0m   \u001b[0;32mreturn\u001b[0m \u001b[0mres\u001b[0m\u001b[0;34m\u001b[0m\u001b[0;34m\u001b[0m\u001b[0m\n\u001b[1;32m     12\u001b[0m \u001b[0;34m\u001b[0m\u001b[0m\n\u001b[0;32m---> 13\u001b[0;31m \u001b[0mworkers\u001b[0m \u001b[0;34m=\u001b[0m \u001b[0mint\u001b[0m\u001b[0;34m(\u001b[0m\u001b[0minput\u001b[0m\u001b[0;34m(\u001b[0m\u001b[0;34m)\u001b[0m\u001b[0;34m)\u001b[0m\u001b[0;34m\u001b[0m\u001b[0;34m\u001b[0m\u001b[0m\n\u001b[0m\u001b[1;32m     14\u001b[0m \u001b[0mtasks\u001b[0m \u001b[0;34m=\u001b[0m \u001b[0mint\u001b[0m\u001b[0;34m(\u001b[0m\u001b[0minput\u001b[0m\u001b[0;34m(\u001b[0m\u001b[0;34m)\u001b[0m\u001b[0;34m)\u001b[0m\u001b[0;34m\u001b[0m\u001b[0;34m\u001b[0m\u001b[0m\n\u001b[1;32m     15\u001b[0m \u001b[0mtime\u001b[0m \u001b[0;34m=\u001b[0m \u001b[0mint\u001b[0m\u001b[0;34m(\u001b[0m\u001b[0minput\u001b[0m\u001b[0;34m(\u001b[0m\u001b[0;34m)\u001b[0m\u001b[0;34m)\u001b[0m\u001b[0;34m\u001b[0m\u001b[0;34m\u001b[0m\u001b[0m\n",
            "\u001b[0;32m/usr/local/lib/python3.7/dist-packages/ipykernel/kernelbase.py\u001b[0m in \u001b[0;36mraw_input\u001b[0;34m(self, prompt)\u001b[0m\n\u001b[1;32m    702\u001b[0m             \u001b[0mself\u001b[0m\u001b[0;34m.\u001b[0m\u001b[0m_parent_ident\u001b[0m\u001b[0;34m,\u001b[0m\u001b[0;34m\u001b[0m\u001b[0;34m\u001b[0m\u001b[0m\n\u001b[1;32m    703\u001b[0m             \u001b[0mself\u001b[0m\u001b[0;34m.\u001b[0m\u001b[0m_parent_header\u001b[0m\u001b[0;34m,\u001b[0m\u001b[0;34m\u001b[0m\u001b[0;34m\u001b[0m\u001b[0m\n\u001b[0;32m--> 704\u001b[0;31m             \u001b[0mpassword\u001b[0m\u001b[0;34m=\u001b[0m\u001b[0;32mFalse\u001b[0m\u001b[0;34m,\u001b[0m\u001b[0;34m\u001b[0m\u001b[0;34m\u001b[0m\u001b[0m\n\u001b[0m\u001b[1;32m    705\u001b[0m         )\n\u001b[1;32m    706\u001b[0m \u001b[0;34m\u001b[0m\u001b[0m\n",
            "\u001b[0;32m/usr/local/lib/python3.7/dist-packages/ipykernel/kernelbase.py\u001b[0m in \u001b[0;36m_input_request\u001b[0;34m(self, prompt, ident, parent, password)\u001b[0m\n\u001b[1;32m    732\u001b[0m             \u001b[0;32mexcept\u001b[0m \u001b[0mKeyboardInterrupt\u001b[0m\u001b[0;34m:\u001b[0m\u001b[0;34m\u001b[0m\u001b[0;34m\u001b[0m\u001b[0m\n\u001b[1;32m    733\u001b[0m                 \u001b[0;31m# re-raise KeyboardInterrupt, to truncate traceback\u001b[0m\u001b[0;34m\u001b[0m\u001b[0;34m\u001b[0m\u001b[0;34m\u001b[0m\u001b[0m\n\u001b[0;32m--> 734\u001b[0;31m                 \u001b[0;32mraise\u001b[0m \u001b[0mKeyboardInterrupt\u001b[0m\u001b[0;34m\u001b[0m\u001b[0;34m\u001b[0m\u001b[0m\n\u001b[0m\u001b[1;32m    735\u001b[0m             \u001b[0;32melse\u001b[0m\u001b[0;34m:\u001b[0m\u001b[0;34m\u001b[0m\u001b[0;34m\u001b[0m\u001b[0m\n\u001b[1;32m    736\u001b[0m                 \u001b[0;32mbreak\u001b[0m\u001b[0;34m\u001b[0m\u001b[0;34m\u001b[0m\u001b[0m\n",
            "\u001b[0;31mKeyboardInterrupt\u001b[0m: "
          ]
        }
      ]
    },
    {
      "cell_type": "markdown",
      "metadata": {
        "id": "YOmljntsTm3e"
      },
      "source": [
        "---\n",
        "\n",
        "На этом day00 завершен. Неоднозначное соответствие единиц измерения времени рассмотрим в day01."
      ]
    }
  ],
  "metadata": {
    "kernelspec": {
      "display_name": "Python 3",
      "language": "python",
      "name": "python3"
    },
    "language_info": {
      "codemirror_mode": {
        "name": "ipython",
        "version": 3
      },
      "file_extension": ".py",
      "mimetype": "text/x-python",
      "name": "python",
      "nbconvert_exporter": "python",
      "pygments_lexer": "ipython3",
      "version": "3.7.6"
    },
    "colab": {
      "name": "d00_task.ipynb",
      "provenance": [],
      "collapsed_sections": [],
      "include_colab_link": true
    }
  },
  "nbformat": 4,
  "nbformat_minor": 0
}